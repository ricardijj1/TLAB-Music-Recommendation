{
 "cells": [
  {
   "cell_type": "markdown",
   "metadata": {},
   "source": [
    "Which insights did you gain from your EDA? Were any columns highly correlated? If so, name them.\n",
    "\n",
    "How did you determine which columns to drop or keep? If your EDA informed this process, explain which insights you used to determine which columns were not needed. \n",
    "\n",
    "What was the optimal number of clusters in your cluster model? Explain how you determined this value.\n",
    "\n",
    "Take a look at the respective songs that fell into your clusters. Describe these clusters in human terms to the best of your ability using the columns in your dataset (for example high-gospel songs, low-gospel songs, etc). Feel free to listen to these songs as well to get a sense of what nuance your algorithm picked up on.\n",
    "\n",
    "Take a look at the clusters that your algorithm assigned to your test samples. Based on these clusters, which songs would you recommend to this user?\n"
   ]
  }
 ],
 "metadata": {
  "language_info": {
   "name": "python"
  }
 },
 "nbformat": 4,
 "nbformat_minor": 2
}
